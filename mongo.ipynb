{
 "cells": [
  {
   "cell_type": "code",
   "execution_count": 3,
   "metadata": {},
   "outputs": [
    {
     "name": "stdout",
     "output_type": "stream",
     "text": [
      "Requirement already satisfied: pymongo in /Users/afsankhan/opt/anaconda3/envs/edmonk_backend/lib/python3.11/site-packages (4.8.0)\n",
      "Requirement already satisfied: dnspython<3.0.0,>=1.16.0 in /Users/afsankhan/opt/anaconda3/envs/edmonk_backend/lib/python3.11/site-packages (from pymongo) (2.6.1)\n"
     ]
    }
   ],
   "source": [
    "!pip install pymongo"
   ]
  },
  {
   "cell_type": "code",
   "execution_count": 4,
   "metadata": {},
   "outputs": [],
   "source": [
    "import pymongo"
   ]
  },
  {
   "cell_type": "code",
   "execution_count": 5,
   "metadata": {},
   "outputs": [],
   "source": [
    "# make a connection\n",
    "myclient = pymongo.MongoClient(\"mongodb://localhost:27017/\")"
   ]
  },
  {
   "cell_type": "code",
   "execution_count": 6,
   "metadata": {},
   "outputs": [
    {
     "data": {
      "text/plain": [
       "['admin', 'config', 'local', 'mydatabase', 'test_db', 'tutort']"
      ]
     },
     "execution_count": 6,
     "metadata": {},
     "output_type": "execute_result"
    }
   ],
   "source": [
    "# list the database\n",
    "myclient.list_database_names()"
   ]
  },
  {
   "cell_type": "code",
   "execution_count": 7,
   "metadata": {},
   "outputs": [],
   "source": [
    "# use the database\n",
    "mydb = myclient[\"tutort\"]"
   ]
  },
  {
   "cell_type": "code",
   "execution_count": 8,
   "metadata": {},
   "outputs": [
    {
     "data": {
      "text/plain": [
       "['students']"
      ]
     },
     "execution_count": 8,
     "metadata": {},
     "output_type": "execute_result"
    }
   ],
   "source": [
    "# to see all the collections\n",
    "mydb.list_collection_names()"
   ]
  },
  {
   "cell_type": "code",
   "execution_count": 9,
   "metadata": {},
   "outputs": [],
   "source": [
    "# create a collection\n",
    "collection = mydb[\"teachers\"]"
   ]
  },
  {
   "cell_type": "code",
   "execution_count": 10,
   "metadata": {},
   "outputs": [
    {
     "data": {
      "text/plain": [
       "['students']"
      ]
     },
     "execution_count": 10,
     "metadata": {},
     "output_type": "execute_result"
    }
   ],
   "source": [
    "mydb.list_collection_names()"
   ]
  },
  {
   "cell_type": "code",
   "execution_count": 11,
   "metadata": {},
   "outputs": [],
   "source": [
    "teachers_list = [\n",
    "    {\n",
    "        \"name\": \"Alice Johnson\",\n",
    "        \"subject\": \"Mathematics\",\n",
    "        \"years_of_experience\": 10,\n",
    "        \"contact\": {\n",
    "            \"email\": \"alice.johnson@example.com\",\n",
    "            \"phone\": \"555-1234\"\n",
    "        },\n",
    "        \"courses\": [\"Algebra\", \"Calculus\", \"Geometry\"]\n",
    "    },\n",
    "    {\n",
    "        \"name\": \"Bob Smith\",\n",
    "        \"subject\": \"Science\",\n",
    "        \"years_of_experience\": 8,\n",
    "        \"contact\": {\n",
    "            \"email\": \"bob.smith@example.com\",\n",
    "            \"phone\": \"555-5678\"\n",
    "        },\n",
    "        \"courses\": [\"Physics\", \"Chemistry\", \"Biology\"]\n",
    "    },\n",
    "    {\n",
    "        \"name\": \"Carol Davis\",\n",
    "        \"subject\": \"History\",\n",
    "        \"years_of_experience\": 12,\n",
    "        \"contact\": {\n",
    "            \"email\": \"carol.davis@example.com\",\n",
    "            \"phone\": \"555-8765\"\n",
    "        },\n",
    "        \"courses\": [\"World History\", \"American History\", \"European History\"]\n",
    "    },\n",
    "    {\n",
    "        \"name\": \"David Wilson\",\n",
    "        \"subject\": \"English\",\n",
    "        \"years_of_experience\": 5,\n",
    "        \"contact\": {\n",
    "            \"email\": \"david.wilson@example.com\",\n",
    "            \"phone\": \"555-4321\"\n",
    "        },\n",
    "        \"courses\": [\"Literature\", \"Composition\", \"Creative Writing\"]\n",
    "    },\n",
    "    {\n",
    "        \"name\": \"Eve Brown\",\n",
    "        \"subject\": \"Computer Science\",\n",
    "        \"years_of_experience\": 7,\n",
    "        \"contact\": {\n",
    "            \"email\": \"eve.brown@example.com\",\n",
    "            \"phone\": \"555-6789\"\n",
    "        },\n",
    "        \"courses\": [\"Programming\", \"Data Structures\", \"Algorithms\"]\n",
    "    }\n",
    "]\n",
    "\n"
   ]
  },
  {
   "cell_type": "code",
   "execution_count": 12,
   "metadata": {},
   "outputs": [],
   "source": [
    "# inserted the data\n",
    "data = collection.insert_many(teachers_list)"
   ]
  },
  {
   "cell_type": "code",
   "execution_count": 13,
   "metadata": {},
   "outputs": [],
   "source": [
    "data = collection.insert_one({\n",
    "        \"name\": \"Alice tiwari\",\n",
    "        \"subject\": \"Mathematics\",\n",
    "        \"years_of_experience\": 11,\n",
    "        \"contact\": {\n",
    "            \"email\": \"alice.tiwari@example.com\",\n",
    "            \"phone\": \"555-1234\"\n",
    "        },\n",
    "        \"courses\": [\"Algebra\", \"Calculus\", \"Geometry\"]\n",
    "    })"
   ]
  },
  {
   "cell_type": "code",
   "execution_count": 14,
   "metadata": {},
   "outputs": [],
   "source": [
    "# find\n",
    "data = collection.find()"
   ]
  },
  {
   "cell_type": "code",
   "execution_count": 15,
   "metadata": {},
   "outputs": [
    {
     "name": "stdout",
     "output_type": "stream",
     "text": [
      "{'_id': ObjectId('66ce9545aa5aab3aa8c20aee'), 'name': 'Alice Johnson', 'subject': 'Mathematics', 'years_of_experience': 10, 'contact': {'email': 'alice.johnson@example.com', 'phone': '555-1234'}, 'courses': ['Algebra', 'Calculus', 'Geometry']}\n",
      "{'_id': ObjectId('66ce9545aa5aab3aa8c20aef'), 'name': 'Bob Smith', 'subject': 'Science', 'years_of_experience': 8, 'contact': {'email': 'bob.smith@example.com', 'phone': '555-5678'}, 'courses': ['Physics', 'Chemistry', 'Biology']}\n",
      "{'_id': ObjectId('66ce9545aa5aab3aa8c20af0'), 'name': 'Carol Davis', 'subject': 'History', 'years_of_experience': 12, 'contact': {'email': 'carol.davis@example.com', 'phone': '555-8765'}, 'courses': ['World History', 'American History', 'European History']}\n",
      "{'_id': ObjectId('66ce9545aa5aab3aa8c20af1'), 'name': 'David Wilson', 'subject': 'English', 'years_of_experience': 5, 'contact': {'email': 'david.wilson@example.com', 'phone': '555-4321'}, 'courses': ['Literature', 'Composition', 'Creative Writing']}\n",
      "{'_id': ObjectId('66ce9545aa5aab3aa8c20af2'), 'name': 'Eve Brown', 'subject': 'Computer Science', 'years_of_experience': 7, 'contact': {'email': 'eve.brown@example.com', 'phone': '555-6789'}, 'courses': ['Programming', 'Data Structures', 'Algorithms']}\n",
      "{'_id': ObjectId('66ce95caaa5aab3aa8c20af3'), 'name': 'Alice tiwari', 'subject': 'Mathematics', 'years_of_experience': 11, 'contact': {'email': 'alice.tiwari@example.com', 'phone': '555-1234'}, 'courses': ['Algebra', 'Calculus', 'Geometry']}\n"
     ]
    }
   ],
   "source": [
    "# extract the data\n",
    "for i in data:\n",
    "    print(i)"
   ]
  },
  {
   "cell_type": "code",
   "execution_count": 16,
   "metadata": {},
   "outputs": [
    {
     "name": "stdout",
     "output_type": "stream",
     "text": [
      "{'_id': ObjectId('66ce9545aa5aab3aa8c20aee'), 'name': 'Alice Johnson', 'subject': 'Mathematics', 'years_of_experience': 10, 'contact': {'email': 'alice.johnson@example.com', 'phone': '555-1234'}, 'courses': ['Algebra', 'Calculus', 'Geometry']}\n",
      "{'_id': ObjectId('66ce95caaa5aab3aa8c20af3'), 'name': 'Alice tiwari', 'subject': 'Mathematics', 'years_of_experience': 11, 'contact': {'email': 'alice.tiwari@example.com', 'phone': '555-1234'}, 'courses': ['Algebra', 'Calculus', 'Geometry']}\n"
     ]
    }
   ],
   "source": [
    "# filter and find the doc\n",
    "\n",
    "data = collection.find({\"subject\" : \"Mathematics\"})\n",
    "\n",
    "# extract the data\n",
    "for i in data:\n",
    "    print(i)"
   ]
  },
  {
   "cell_type": "code",
   "execution_count": 17,
   "metadata": {},
   "outputs": [
    {
     "name": "stdout",
     "output_type": "stream",
     "text": [
      "{'_id': ObjectId('66ce9545aa5aab3aa8c20aee'), 'name': 'Alice Johnson', 'subject': 'Mathematics', 'years_of_experience': 10}\n",
      "{'_id': ObjectId('66ce9545aa5aab3aa8c20aef'), 'name': 'Bob Smith', 'subject': 'Science', 'years_of_experience': 8}\n",
      "{'_id': ObjectId('66ce9545aa5aab3aa8c20af0'), 'name': 'Carol Davis', 'subject': 'History', 'years_of_experience': 12}\n",
      "{'_id': ObjectId('66ce9545aa5aab3aa8c20af1'), 'name': 'David Wilson', 'subject': 'English', 'years_of_experience': 5}\n",
      "{'_id': ObjectId('66ce9545aa5aab3aa8c20af2'), 'name': 'Eve Brown', 'subject': 'Computer Science', 'years_of_experience': 7}\n",
      "{'_id': ObjectId('66ce95caaa5aab3aa8c20af3'), 'name': 'Alice tiwari', 'subject': 'Mathematics', 'years_of_experience': 11}\n"
     ]
    }
   ],
   "source": [
    "# projection\n",
    "data = collection.find({}, {\"name\":1, \"subject\":1, \"years_of_experience\":1})\n",
    "\n",
    "# extract the data\n",
    "for i in data:\n",
    "    print(i)"
   ]
  },
  {
   "cell_type": "code",
   "execution_count": 18,
   "metadata": {},
   "outputs": [
    {
     "name": "stdout",
     "output_type": "stream",
     "text": [
      "{'_id': ObjectId('66ce9545aa5aab3aa8c20aee'), 'name': 'Alice Johnson', 'subject': 'Mathematics', 'years_of_experience': 10}\n",
      "{'_id': ObjectId('66ce95caaa5aab3aa8c20af3'), 'name': 'Alice tiwari', 'subject': 'Mathematics', 'years_of_experience': 11}\n"
     ]
    }
   ],
   "source": [
    "data = collection.find({\"subject\" : \"Mathematics\"}, {\"name\":1, \"subject\":1, \"years_of_experience\":1})\n",
    "\n",
    "# extract the data\n",
    "for i in data:\n",
    "    print(i)"
   ]
  },
  {
   "cell_type": "code",
   "execution_count": 21,
   "metadata": {},
   "outputs": [
    {
     "name": "stdout",
     "output_type": "stream",
     "text": [
      "{'_id': ObjectId('66ce9545aa5aab3aa8c20aee'), 'name': 'Alice Johnson', 'subject': 'Mathematics', 'years_of_experience': 10}\n",
      "{'_id': ObjectId('66ce9545aa5aab3aa8c20aef'), 'name': 'Bob Smith', 'subject': 'Science', 'years_of_experience': 8}\n",
      "{'_id': ObjectId('66ce9545aa5aab3aa8c20af0'), 'name': 'Carol Davis', 'subject': 'History', 'years_of_experience': 12}\n"
     ]
    }
   ],
   "source": [
    "# limit\n",
    "data = collection.find({}, {\"name\":1, \"subject\":1, \"years_of_experience\":1}).limit(3)\n",
    "\n",
    "# extract the data\n",
    "for i in data:\n",
    "    print(i)"
   ]
  },
  {
   "cell_type": "code",
   "execution_count": 22,
   "metadata": {},
   "outputs": [
    {
     "name": "stdout",
     "output_type": "stream",
     "text": [
      "{'_id': ObjectId('66ce9545aa5aab3aa8c20aee'), 'name': 'Alice Johnson', 'subject': 'Mathematics', 'years_of_experience': 10, 'contact': {'email': 'alice.johnson@example.com', 'phone': '555-1234'}, 'courses': ['Algebra', 'Calculus', 'Geometry']}\n",
      "{'_id': ObjectId('66ce9545aa5aab3aa8c20aef'), 'name': 'Bob Smith', 'subject': 'Science', 'years_of_experience': 8, 'contact': {'email': 'bob.smith@example.com', 'phone': '555-5678'}, 'courses': ['Physics', 'Chemistry', 'Biology']}\n",
      "{'_id': ObjectId('66ce9545aa5aab3aa8c20af0'), 'name': 'Carol Davis', 'subject': 'History', 'years_of_experience': 12, 'contact': {'email': 'carol.davis@example.com', 'phone': '555-8765'}, 'courses': ['World History', 'American History', 'European History']}\n",
      "{'_id': ObjectId('66ce9545aa5aab3aa8c20af2'), 'name': 'Eve Brown', 'subject': 'Computer Science', 'years_of_experience': 7, 'contact': {'email': 'eve.brown@example.com', 'phone': '555-6789'}, 'courses': ['Programming', 'Data Structures', 'Algorithms']}\n",
      "{'_id': ObjectId('66ce95caaa5aab3aa8c20af3'), 'name': 'Alice tiwari', 'subject': 'Mathematics', 'years_of_experience': 11, 'contact': {'email': 'alice.tiwari@example.com', 'phone': '555-1234'}, 'courses': ['Algebra', 'Calculus', 'Geometry']}\n"
     ]
    }
   ],
   "source": [
    "# greater than query\n",
    "my_query = {\n",
    "    \"years_of_experience\" : {\"$gt\" : 5}\n",
    "}\n",
    "data = collection.find(my_query)\n",
    "# extract the data\n",
    "for i in data:\n",
    "    print(i)"
   ]
  },
  {
   "cell_type": "code",
   "execution_count": 23,
   "metadata": {},
   "outputs": [
    {
     "name": "stdout",
     "output_type": "stream",
     "text": [
      "{'_id': ObjectId('66ce9545aa5aab3aa8c20af1'), 'name': 'David Wilson', 'subject': 'English', 'years_of_experience': 5, 'contact': {'email': 'david.wilson@example.com', 'phone': '555-4321'}, 'courses': ['Literature', 'Composition', 'Creative Writing']}\n",
      "{'_id': ObjectId('66ce9545aa5aab3aa8c20af2'), 'name': 'Eve Brown', 'subject': 'Computer Science', 'years_of_experience': 7, 'contact': {'email': 'eve.brown@example.com', 'phone': '555-6789'}, 'courses': ['Programming', 'Data Structures', 'Algorithms']}\n"
     ]
    }
   ],
   "source": [
    "# less than query\n",
    "my_query = {\n",
    "    \"years_of_experience\" : {\"$lt\" : 8}\n",
    "}\n",
    "data = collection.find(my_query)\n",
    "# extract the data\n",
    "for i in data:\n",
    "    print(i)"
   ]
  },
  {
   "cell_type": "code",
   "execution_count": 28,
   "metadata": {},
   "outputs": [
    {
     "name": "stdout",
     "output_type": "stream",
     "text": [
      "{'_id': ObjectId('66ce9545aa5aab3aa8c20aef'), 'name': 'Bob Smith', 'subject': 'Science', 'years_of_experience': 8, 'contact': {'email': 'bob.smith@example.com', 'phone': '555-5678'}, 'courses': ['Physics', 'Chemistry', 'Biology']}\n"
     ]
    }
   ],
   "source": [
    "# regex\n",
    "my_query = {\n",
    "    \"name\" : {\"$regex\" : \"^B\"}\n",
    "}\n",
    "data = collection.find(my_query)\n",
    "# extract the data\n",
    "for i in data:\n",
    "    print(i)"
   ]
  },
  {
   "cell_type": "code",
   "execution_count": 31,
   "metadata": {},
   "outputs": [
    {
     "name": "stdout",
     "output_type": "stream",
     "text": [
      "{'_id': ObjectId('66ce9545aa5aab3aa8c20aef'), 'name': 'Bob Smith', 'subject': 'Science', 'years_of_experience': 8, 'contact': {'email': 'bob.smith@example.com', 'phone': '555-5678'}, 'courses': ['Physics', 'Chemistry', 'Biology']}\n"
     ]
    }
   ],
   "source": [
    "# regex\n",
    "my_query = {\n",
    "    \"name\" : {\"$regex\" : \"h$\"}\n",
    "}\n",
    "data = collection.find(my_query)\n",
    "# extract the data\n",
    "for i in data:\n",
    "    print(i)"
   ]
  },
  {
   "cell_type": "code",
   "execution_count": 33,
   "metadata": {},
   "outputs": [
    {
     "name": "stdout",
     "output_type": "stream",
     "text": [
      "{'_id': ObjectId('66ce9545aa5aab3aa8c20aee'), 'name': 'Alice Johnson', 'subject': 'Mathematics', 'years_of_experience': 10, 'contact': {'email': 'alice.johnson@example.com', 'phone': '555-1234'}, 'courses': ['Algebra', 'Calculus', 'Geometry']}\n",
      "{'_id': ObjectId('66ce95caaa5aab3aa8c20af3'), 'name': 'Alice tiwari', 'subject': 'Mathematics', 'years_of_experience': 11, 'contact': {'email': 'alice.tiwari@example.com', 'phone': '555-1234'}, 'courses': ['Algebra', 'Calculus', 'Geometry']}\n",
      "{'_id': ObjectId('66ce9545aa5aab3aa8c20aef'), 'name': 'Bob Smith', 'subject': 'Science', 'years_of_experience': 8, 'contact': {'email': 'bob.smith@example.com', 'phone': '555-5678'}, 'courses': ['Physics', 'Chemistry', 'Biology']}\n",
      "{'_id': ObjectId('66ce9545aa5aab3aa8c20af0'), 'name': 'Carol Davis', 'subject': 'History', 'years_of_experience': 12, 'contact': {'email': 'carol.davis@example.com', 'phone': '555-8765'}, 'courses': ['World History', 'American History', 'European History']}\n",
      "{'_id': ObjectId('66ce9545aa5aab3aa8c20af2'), 'name': 'Eve Brown', 'subject': 'Computer Science', 'years_of_experience': 7, 'contact': {'email': 'eve.brown@example.com', 'phone': '555-6789'}, 'courses': ['Programming', 'Data Structures', 'Algorithms']}\n"
     ]
    }
   ],
   "source": [
    "# sort the data - Ascending\n",
    "\n",
    "my_query = {\n",
    "    \"years_of_experience\" : {\"$gt\" : 5}\n",
    "}\n",
    "data = collection.find(my_query).sort(\"name\", 1)\n",
    "# extract the data\n",
    "for i in data:\n",
    "    print(i)"
   ]
  },
  {
   "cell_type": "code",
   "execution_count": 35,
   "metadata": {},
   "outputs": [
    {
     "name": "stdout",
     "output_type": "stream",
     "text": [
      "{'_id': ObjectId('66ce9545aa5aab3aa8c20af2'), 'name': 'Eve Brown', 'subject': 'Computer Science', 'years_of_experience': 7, 'contact': {'email': 'eve.brown@example.com', 'phone': '555-6789'}, 'courses': ['Programming', 'Data Structures', 'Algorithms']}\n",
      "{'_id': ObjectId('66ce9545aa5aab3aa8c20af0'), 'name': 'Carol Davis', 'subject': 'History', 'years_of_experience': 12, 'contact': {'email': 'carol.davis@example.com', 'phone': '555-8765'}, 'courses': ['World History', 'American History', 'European History']}\n",
      "{'_id': ObjectId('66ce9545aa5aab3aa8c20aef'), 'name': 'Bob Smith', 'subject': 'Science', 'years_of_experience': 8, 'contact': {'email': 'bob.smith@example.com', 'phone': '555-5678'}, 'courses': ['Physics', 'Chemistry', 'Biology']}\n",
      "{'_id': ObjectId('66ce95caaa5aab3aa8c20af3'), 'name': 'Alice tiwari', 'subject': 'Mathematics', 'years_of_experience': 11, 'contact': {'email': 'alice.tiwari@example.com', 'phone': '555-1234'}, 'courses': ['Algebra', 'Calculus', 'Geometry']}\n",
      "{'_id': ObjectId('66ce9545aa5aab3aa8c20aee'), 'name': 'Alice Johnson', 'subject': 'Mathematics', 'years_of_experience': 10, 'contact': {'email': 'alice.johnson@example.com', 'phone': '555-1234'}, 'courses': ['Algebra', 'Calculus', 'Geometry']}\n"
     ]
    }
   ],
   "source": [
    "# sort the data - descending\n",
    "my_query = {\n",
    "    \"years_of_experience\" : {\"$gt\" : 5}\n",
    "}\n",
    "data = collection.find(my_query).sort(\"name\", -1)\n",
    "# extract the data\n",
    "for i in data:\n",
    "    print(i)"
   ]
  },
  {
   "cell_type": "code",
   "execution_count": 38,
   "metadata": {},
   "outputs": [],
   "source": [
    "# update one\n",
    "\n",
    "filter = {\n",
    "    \"name\" : \"Alice tiwari\"\n",
    "}\n",
    "\n",
    "update = {\n",
    "    \"$set\" : {\n",
    "        \"subject\" : \"economics\"\n",
    "    }\n",
    "}\n",
    "data = collection.update_one(filter, update)"
   ]
  },
  {
   "cell_type": "code",
   "execution_count": null,
   "metadata": {},
   "outputs": [],
   "source": [
    "# update many data\n",
    "\n",
    "filter = {\n",
    "}\n",
    "\n",
    "update = {\n",
    "    \"$set\" : {\n",
    "        \"subject\" : \"abc\"\n",
    "    }\n",
    "}\n",
    "data = collection.update_many(filter, update)"
   ]
  },
  {
   "cell_type": "code",
   "execution_count": 39,
   "metadata": {},
   "outputs": [],
   "source": [
    "#delete - one\n",
    "\n",
    "filter = {\n",
    "    \"name\" : \"Alice tiwari\"\n",
    "}\n",
    "\n",
    "data = collection.delete_one(filter)"
   ]
  },
  {
   "cell_type": "code",
   "execution_count": 40,
   "metadata": {},
   "outputs": [],
   "source": [
    "#delete - many\n",
    "\n",
    "filter = {\n",
    "    \"subject\" : \"abc\"\n",
    "}\n",
    "\n",
    "data = collection.delete_many(filter)"
   ]
  },
  {
   "cell_type": "code",
   "execution_count": 2,
   "metadata": {},
   "outputs": [
    {
     "data": {
      "text/plain": [
       "dict"
      ]
     },
     "execution_count": 2,
     "metadata": {},
     "output_type": "execute_result"
    }
   ],
   "source": []
  },
  {
   "cell_type": "code",
   "execution_count": null,
   "metadata": {},
   "outputs": [],
   "source": []
  }
 ],
 "metadata": {
  "kernelspec": {
   "display_name": "base",
   "language": "python",
   "name": "python3"
  },
  "language_info": {
   "codemirror_mode": {
    "name": "ipython",
    "version": 3
   },
   "file_extension": ".py",
   "mimetype": "text/x-python",
   "name": "python",
   "nbconvert_exporter": "python",
   "pygments_lexer": "ipython3",
   "version": "3.11.9"
  }
 },
 "nbformat": 4,
 "nbformat_minor": 2
}
